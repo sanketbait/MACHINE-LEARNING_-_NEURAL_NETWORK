{
  "nbformat": 4,
  "nbformat_minor": 0,
  "metadata": {
    "colab": {
      "provenance": [],
      "collapsed_sections": []
    },
    "kernelspec": {
      "name": "python3",
      "display_name": "Python 3"
    },
    "language_info": {
      "name": "python"
    }
  },
  "cells": [
    {
      "cell_type": "markdown",
      "source": [
        "# DAY_06 LOGISTIC **REGRESSION** \n"
      ],
      "metadata": {
        "id": "Oe2q2RNZLqCu"
      }
    },
    {
      "cell_type": "code",
      "execution_count": null,
      "metadata": {
        "id": "rE8zejjLLQh9"
      },
      "outputs": [],
      "source": [
        "import pandas as pd\n",
        "import numpy as np\n",
        "import seaborn as sns\n",
        "import matplotlib.pyplot as plt\n"
      ]
    },
    {
      "cell_type": "code",
      "source": [
        "df = pd.read_csv(\"result.csv\")\n",
        "df.head(10)"
      ],
      "metadata": {
        "id": "vWPyrFQ_L-l-"
      },
      "execution_count": null,
      "outputs": []
    },
    {
      "cell_type": "code",
      "source": [
        "from sklearn.model_selection import train_test_split\n",
        "x_train, x_test,y_train,y_test = train_test_split(df[[\"age\"]],df[\"result\"], train_size = 0.8, reandom_state = 10)"
      ],
      "metadata": {
        "id": "3X1QgdwMMS1X"
      },
      "execution_count": null,
      "outputs": []
    },
    {
      "cell_type": "code",
      "source": [
        "from sklearn.linear_model import LogisticRegression\n",
        "model = LogisticRegression()   # make a object\n",
        "model.fit(x_train,y_train)"
      ],
      "metadata": {
        "id": "evAXxY3ERO8a"
      },
      "execution_count": null,
      "outputs": []
    },
    {
      "cell_type": "code",
      "source": [
        "y_predicted = model.predict(x_test)\n",
        "y_predicted"
      ],
      "metadata": {
        "id": "bKJ3RCCXRpQf"
      },
      "execution_count": null,
      "outputs": []
    },
    {
      "cell_type": "code",
      "source": [
        "model.score(x_test, y_test)"
      ],
      "metadata": {
        "id": "AI2y6oSfRz6i"
      },
      "execution_count": null,
      "outputs": []
    },
    {
      "cell_type": "code",
      "source": [
        "from sklearn import datasets\n",
        "from sklearn import linear_model"
      ],
      "metadata": {
        "id": "Fsl_N_lyR515"
      },
      "execution_count": 1,
      "outputs": []
    },
    {
      "cell_type": "code",
      "source": [
        "digits = datasets.load_digits()"
      ],
      "metadata": {
        "id": "h1xqI0upSHJ8"
      },
      "execution_count": null,
      "outputs": []
    },
    {
      "cell_type": "code",
      "source": [
        "digits.keys()"
      ],
      "metadata": {
        "id": "8jxjOHx-SXUs"
      },
      "execution_count": null,
      "outputs": []
    },
    {
      "cell_type": "code",
      "source": [
        "digits.target_names"
      ],
      "metadata": {
        "id": "yLEUfkr8SaJ5"
      },
      "execution_count": null,
      "outputs": []
    },
    {
      "cell_type": "code",
      "source": [
        "digits.data.shape"
      ],
      "metadata": {
        "id": "ga5pJQdrSuJv"
      },
      "execution_count": null,
      "outputs": []
    },
    {
      "cell_type": "code",
      "source": [
        "digits.images.shape"
      ],
      "metadata": {
        "id": "XK33vJo1S1E4"
      },
      "execution_count": null,
      "outputs": []
    },
    {
      "cell_type": "code",
      "source": [
        "digits.images[0]"
      ],
      "metadata": {
        "id": "uZ7WlX6hS4GF"
      },
      "execution_count": null,
      "outputs": []
    },
    {
      "cell_type": "code",
      "source": [
        "import pylab as py\n",
        "py.matshow(digits.images[0])\n",
        "py.gray()"
      ],
      "metadata": {
        "id": "pF6XkcDfTNwp"
      },
      "execution_count": null,
      "outputs": []
    },
    {
      "cell_type": "code",
      "source": [
        "x = digits.data\n",
        "y = digits.target"
      ],
      "metadata": {
        "id": "9Y0Z3HULTfEs"
      },
      "execution_count": null,
      "outputs": []
    },
    {
      "cell_type": "code",
      "source": [
        "x_train,x_test,y_train,y_test = train_test_split(x,y,test_size=0.2,random_state =10)"
      ],
      "metadata": {
        "id": "k3IH6lq7T_Gb"
      },
      "execution_count": null,
      "outputs": []
    },
    {
      "cell_type": "code",
      "source": [
        "digreg = LogisticRegression()"
      ],
      "metadata": {
        "id": "MGMJHdL-UnX7"
      },
      "execution_count": null,
      "outputs": []
    },
    {
      "cell_type": "code",
      "source": [
        "digreg.fit(x_train,y_train)"
      ],
      "metadata": {
        "id": "zzHZRA77UuxH"
      },
      "execution_count": null,
      "outputs": []
    },
    {
      "cell_type": "code",
      "source": [
        "y_predict =digreg.predict(x_test)"
      ],
      "metadata": {
        "id": "PPElaGvCU7hM"
      },
      "execution_count": null,
      "outputs": []
    },
    {
      "cell_type": "code",
      "source": [
        "print(metrics.accuracy_score(y_test,y_predict))"
      ],
      "metadata": {
        "id": "kHpZtK87VFiG"
      },
      "execution_count": null,
      "outputs": []
    },
    {
      "cell_type": "code",
      "source": [
        "y_predict"
      ],
      "metadata": {
        "id": "1S6JX260VPXA"
      },
      "execution_count": null,
      "outputs": []
    }
  ]
}