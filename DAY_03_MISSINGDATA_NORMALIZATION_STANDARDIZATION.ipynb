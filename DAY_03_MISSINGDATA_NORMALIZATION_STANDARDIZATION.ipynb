{
  "nbformat": 4,
  "nbformat_minor": 0,
  "metadata": {
    "colab": {
      "provenance": [],
      "collapsed_sections": []
    },
    "kernelspec": {
      "name": "python3",
      "display_name": "Python 3"
    },
    "language_info": {
      "name": "python"
    }
  },
  "cells": [
    {
      "cell_type": "markdown",
      "source": [
        "# ***DAY_03_MISSINGDATA_NORMALIZATION_STANDARDIZATION and BINARIZATION***"
      ],
      "metadata": {
        "id": "bddysVecgzpN"
      }
    },
    {
      "cell_type": "code",
      "execution_count": null,
      "metadata": {
        "id": "ojUN1f8ufQh3"
      },
      "outputs": [],
      "source": [
        "import pandas as pd\n",
        "data =pd.read_csv(\"purchase.csv\")"
      ]
    },
    {
      "cell_type": "code",
      "source": [
        "data"
      ],
      "metadata": {
        "id": "pskj8n0ufxio"
      },
      "execution_count": null,
      "outputs": []
    },
    {
      "cell_type": "code",
      "source": [
        "data.describe()"
      ],
      "metadata": {
        "id": "QUxS7F6ifydG"
      },
      "execution_count": null,
      "outputs": []
    },
    {
      "cell_type": "code",
      "source": [
        "# handle the missing values\n",
        "data['ball'] = data[\"ball\"].fillna(data[\"ball\"].mean())   # fill the nan value with mean value\n",
        "data"
      ],
      "metadata": {
        "id": "oUd3ROG3f0w6"
      },
      "execution_count": null,
      "outputs": []
    },
    {
      "cell_type": "code",
      "source": [
        "data['bat'] = data[\"bat\"].fillna(data[\"bat\"].median())   # fill the nan value with median value\n",
        "data"
      ],
      "metadata": {
        "id": "DiV3gLNmgqML"
      },
      "execution_count": null,
      "outputs": []
    },
    {
      "cell_type": "code",
      "source": [
        "# standard deviation\n",
        "data['apple'] = data[\"apple\"].fillna(data[\"apple\"].std())   # fill the nan value with standard deviation value\n",
        "data"
      ],
      "metadata": {
        "id": "ZRslFZu0hFhT"
      },
      "execution_count": null,
      "outputs": []
    },
    {
      "cell_type": "code",
      "source": [
        "data['orange'] = data[\"orange\"].fillna(data[\"orange\"].min())   # fill the nan value with min value\n",
        "data"
      ],
      "metadata": {
        "id": "d6-vgIMxhTr2"
      },
      "execution_count": null,
      "outputs": []
    },
    {
      "cell_type": "code",
      "source": [
        "data[\"Price\"] = data[\"price\"].fillna(data[\"price\"].max(), inplace= True)   # fill the null value with max"
      ],
      "metadata": {
        "id": "3bBC40lRilgX"
      },
      "execution_count": null,
      "outputs": []
    },
    {
      "cell_type": "code",
      "source": [
        "data[\"Price\"] = data[\"price\"].fillna(\"no_value\", inplace= True)"
      ],
      "metadata": {
        "id": "sJU7g1AshbJw"
      },
      "execution_count": null,
      "outputs": []
    },
    {
      "cell_type": "code",
      "source": [
        "data[\"Price\"] = data[\"price\"].replace(to_replace = np.nan, value = \"0\")   # replacing the values"
      ],
      "metadata": {
        "id": "swfmwIUzh5W8"
      },
      "execution_count": null,
      "outputs": []
    },
    {
      "cell_type": "code",
      "source": [
        "data.dropna()\n",
        "data.dropna(how=\"all\")   # alll missing values\n",
        "data.dropna(axis=1)   # 1 means column"
      ],
      "metadata": {
        "id": "PD77FXA1iIca"
      },
      "execution_count": null,
      "outputs": []
    },
    {
      "cell_type": "code",
      "source": [
        "# in most of case fill the null value its mean or median"
      ],
      "metadata": {
        "id": "YvUXNYRTiar_"
      },
      "execution_count": null,
      "outputs": []
    },
    {
      "cell_type": "markdown",
      "source": [
        "# ***MIN MAX NORMALIZATION***\n",
        "\n",
        "Normalization (also called , min-max normalization) is a scalling technique \n",
        "\n",
        "such that when it is applied the feature will be rescaled so that the will fall in range (0,1)\n",
        "\n"
      ],
      "metadata": {
        "id": "SL_LAgIMjCdM"
      }
    },
    {
      "cell_type": "code",
      "source": [
        "import pandas as pd\n",
        "import numpy as np\n",
        "from sklearn import preprocessing\n",
        "from numpy import set_printoptions\n",
        "data = pd.read_csv(\"psma_indian_diabets\")\n",
        "data"
      ],
      "metadata": {
        "id": "sZR_pnuSjBco"
      },
      "execution_count": null,
      "outputs": []
    },
    {
      "cell_type": "code",
      "source": [
        "data.describe()"
      ],
      "metadata": {
        "id": "KfzwLOz0kvcI"
      },
      "execution_count": null,
      "outputs": []
    },
    {
      "cell_type": "code",
      "source": [
        "# give the column name\n",
        "name = [\"a\",\"b\",\"c\",\"d\",\"e\",\"f\"]\n",
        "data = pd.read_csv(\"psma_indian_diabets\", names= name)   # give the header means column names   "
      ],
      "metadata": {
        "id": "eBx7BAyLkWi3"
      },
      "execution_count": null,
      "outputs": []
    },
    {
      "cell_type": "code",
      "source": [
        "data"
      ],
      "metadata": {
        "id": "Ta5pHtTvmDBs"
      },
      "execution_count": null,
      "outputs": []
    },
    {
      "cell_type": "code",
      "source": [
        "scaler = preprocessing.MinMaxScaler(feature_range=(0,1))    # make object of preprocessing\n",
        "rescaled = scaler.fit_transform(data)\n",
        "set_printoptions(precision = 2)   # front of decimal two digits \n",
        "rescaled"
      ],
      "metadata": {
        "id": "9woQR2GxkyDi"
      },
      "execution_count": null,
      "outputs": []
    },
    {
      "cell_type": "markdown",
      "source": [
        "# **STANDARDIZATION**\n",
        "\n",
        "standardization (also called as z_score normalization) is a scalling \n",
        "\n",
        "technique such that when it is applied the feature will be rescaled\n",
        "\n",
        "so that tey will have the properties of a standard normal distribution\n",
        "\n",
        "\n",
        "# import StandarScaler\n"
      ],
      "metadata": {
        "id": "7qn1DsOfmlh8"
      }
    },
    {
      "cell_type": "code",
      "source": [
        "from sklearn.preprocessing import StandardScaler\n",
        "data_scaler = StandardScaler.fit(data)   # make a object of standardscaler\n",
        "data_rescaled = data_scaler.transform(data)   # transformation\n",
        "data_rescaled"
      ],
      "metadata": {
        "id": "cvGoXP55lose"
      },
      "execution_count": null,
      "outputs": []
    },
    {
      "cell_type": "markdown",
      "source": [
        "# ***when you deal with only two value like 0 and 1  then we can use Binarizer ***"
      ],
      "metadata": {
        "id": "Nz_8zxmUokgK"
      }
    },
    {
      "cell_type": "code",
      "source": [
        "from sklearn.preprocessing import Binarizer\n",
        "binary = Binarizer(threshold = 0.5)    # means value > threshold  then value is 1 set  and value < threshold then value is 0 set\n",
        "binary1 = binary.transform(data)\n",
        "binary1"
      ],
      "metadata": {
        "id": "0I0GBPrJoFfs"
      },
      "execution_count": null,
      "outputs": []
    }
  ]
}